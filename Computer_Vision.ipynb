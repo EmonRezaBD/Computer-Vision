{
  "nbformat": 4,
  "nbformat_minor": 0,
  "metadata": {
    "colab": {
      "provenance": []
    },
    "kernelspec": {
      "name": "python3",
      "display_name": "Python 3"
    },
    "language_info": {
      "name": "python"
    }
  },
  "cells": [
    {
      "cell_type": "markdown",
      "source": [
        "#Tensors"
      ],
      "metadata": {
        "id": "ND_aRK9ML20S"
      }
    },
    {
      "cell_type": "code",
      "source": [
        "import tensorflow as tf\n",
        "#Tensors are nothing but n dimensional array"
      ],
      "metadata": {
        "id": "ltmmhOTsL6Zw"
      },
      "execution_count": null,
      "outputs": []
    },
    {
      "cell_type": "code",
      "source": [
        "tensor_zero_d = tf.constant(4)\n",
        "print(tensor_zero_d)"
      ],
      "metadata": {
        "colab": {
          "base_uri": "https://localhost:8080/"
        },
        "id": "wqRT0qAJMP5T",
        "outputId": "50c3ff65-019c-44a5-8b2a-e13b5fd13e74"
      },
      "execution_count": null,
      "outputs": [
        {
          "output_type": "stream",
          "name": "stdout",
          "text": [
            "tf.Tensor(4, shape=(), dtype=int32)\n"
          ]
        }
      ]
    },
    {
      "cell_type": "code",
      "source": [
        "tensor_one_d = tf.constant([1,20,3,40])\n",
        "print(tensor_one_d)"
      ],
      "metadata": {
        "colab": {
          "base_uri": "https://localhost:8080/"
        },
        "id": "FvzKxEsXPYjn",
        "outputId": "2697b23f-e8cc-4d51-83be-a37cfc4729e5"
      },
      "execution_count": null,
      "outputs": [
        {
          "output_type": "stream",
          "name": "stdout",
          "text": [
            "tf.Tensor([ 1 20  3 40], shape=(4,), dtype=int32)\n"
          ]
        }
      ]
    },
    {
      "cell_type": "code",
      "source": [
        "tensor_two_d = tf.constant([\n",
        "    [1,30,5],\n",
        "    [45,-9,78]\n",
        "])\n",
        "print(tensor_two_d)"
      ],
      "metadata": {
        "colab": {
          "base_uri": "https://localhost:8080/"
        },
        "id": "w8e3521LQcLN",
        "outputId": "9ef644a9-6b3f-41e3-c897-a92c7ed36f3c"
      },
      "execution_count": null,
      "outputs": [
        {
          "output_type": "stream",
          "name": "stdout",
          "text": [
            "tf.Tensor(\n",
            "[[ 1 30  5]\n",
            " [45 -9 78]], shape=(2, 3), dtype=int32)\n"
          ]
        }
      ]
    },
    {
      "cell_type": "code",
      "source": [
        "tensor_three_d = tf.constant([\n",
        "    [ [1,2,3], [4,5,6]],\n",
        "    [ [10,20,30], [30,40,50] ],\n",
        "    [ [-1,-2,-3], [0,4,5] ]\n",
        "])\n",
        "print(tensor_three_d)"
      ],
      "metadata": {
        "colab": {
          "base_uri": "https://localhost:8080/"
        },
        "id": "V-fDCcPuRGo0",
        "outputId": "b8bfa5dd-a201-4a1a-ca3e-b3eb38c5f2b2"
      },
      "execution_count": null,
      "outputs": [
        {
          "output_type": "stream",
          "name": "stdout",
          "text": [
            "tf.Tensor(\n",
            "[[[ 1  2  3]\n",
            "  [ 4  5  6]]\n",
            "\n",
            " [[10 20 30]\n",
            "  [30 40 50]]\n",
            "\n",
            " [[-1 -2 -3]\n",
            "  [ 0  4  5]]], shape=(3, 2, 3), dtype=int32)\n"
          ]
        }
      ]
    },
    {
      "cell_type": "code",
      "source": [
        "tensor_four_d = tf.constant([\n",
        "    [[ [1,2,3], [4,5,6]],\n",
        "    [ [10,20,30], [30,40,50] ],\n",
        "    [ [-1,-2,-3], [0,4,5] ]],\n",
        "\n",
        "    [[ [1,2,3], [4,5,6]],\n",
        "    [ [10,20,30], [30,40,50] ],\n",
        "    [ [-1,-2,-3], [0,4,5] ]]\n",
        "])\n",
        "\n",
        "print(tensor_four_d) #shape(3D per 2D,2D per 3D,1D per 2D ,column num), tips: start reading from the right side"
      ],
      "metadata": {
        "colab": {
          "base_uri": "https://localhost:8080/"
        },
        "id": "HY5foIf2TsBB",
        "outputId": "a746ff2a-faa0-4a41-c6d2-84c2cef0e18a"
      },
      "execution_count": null,
      "outputs": [
        {
          "output_type": "stream",
          "name": "stdout",
          "text": [
            "tf.Tensor(\n",
            "[[[[ 1  2  3]\n",
            "   [ 4  5  6]]\n",
            "\n",
            "  [[10 20 30]\n",
            "   [30 40 50]]\n",
            "\n",
            "  [[-1 -2 -3]\n",
            "   [ 0  4  5]]]\n",
            "\n",
            "\n",
            " [[[ 1  2  3]\n",
            "   [ 4  5  6]]\n",
            "\n",
            "  [[10 20 30]\n",
            "   [30 40 50]]\n",
            "\n",
            "  [[-1 -2 -3]\n",
            "   [ 0  4  5]]]], shape=(2, 3, 2, 3), dtype=int32)\n"
          ]
        }
      ]
    },
    {
      "cell_type": "code",
      "source": [
        "print(tensor_four_d.ndim) #dimension of the tensors"
      ],
      "metadata": {
        "colab": {
          "base_uri": "https://localhost:8080/"
        },
        "id": "bzFAPGirV8n9",
        "outputId": "e9979114-4963-450f-9f28-fb67aab5f5d8"
      },
      "execution_count": null,
      "outputs": [
        {
          "output_type": "stream",
          "name": "stdout",
          "text": [
            "4\n"
          ]
        }
      ]
    },
    {
      "cell_type": "code",
      "source": [
        "#Casting in different data type\n",
        "tensor_one_d = tf.constant([1,-20.0004,3.2,40], dtype = tf.float32)\n",
        "casted_tensor_one_d = tf.cast(tensor_one_d, dtype=tf.int32)\n",
        "\n",
        "print(casted_tensor_one_d)\n"
      ],
      "metadata": {
        "colab": {
          "base_uri": "https://localhost:8080/"
        },
        "id": "SjhnBK_p-QQU",
        "outputId": "1fadbb50-8a6a-417e-a05c-7b3d3d9846f5"
      },
      "execution_count": null,
      "outputs": [
        {
          "output_type": "stream",
          "name": "stdout",
          "text": [
            "tf.Tensor([  1 -20   3  40], shape=(4,), dtype=int32)\n"
          ]
        }
      ]
    },
    {
      "cell_type": "code",
      "source": [
        "#Boolean tensor\n",
        "tensor_bool = tf.constant([True, False, True, False])\n",
        "print(tensor_bool)"
      ],
      "metadata": {
        "colab": {
          "base_uri": "https://localhost:8080/"
        },
        "id": "XJWSY6w3_qko",
        "outputId": "dada7d63-ca5d-447a-c8ab-8d9b372622d4"
      },
      "execution_count": null,
      "outputs": [
        {
          "output_type": "stream",
          "name": "stdout",
          "text": [
            "tf.Tensor([ True False  True False], shape=(4,), dtype=bool)\n"
          ]
        }
      ]
    },
    {
      "cell_type": "code",
      "source": [
        "#String tensor\n",
        "tensor_string = tf.constant([\"Hello\", \"World\", \"Hi\"])\n",
        "print(tensor_string)"
      ],
      "metadata": {
        "colab": {
          "base_uri": "https://localhost:8080/"
        },
        "id": "MN1EFs9uABCK",
        "outputId": "954d5ab9-2fe1-4b9b-d8d4-5ed7facf99bd"
      },
      "execution_count": null,
      "outputs": [
        {
          "output_type": "stream",
          "name": "stdout",
          "text": [
            "tf.Tensor([b'Hello' b'World' b'Hi'], shape=(3,), dtype=string)\n"
          ]
        }
      ]
    },
    {
      "cell_type": "markdown",
      "source": [
        "##Numpy array to Tensor conversion"
      ],
      "metadata": {
        "id": "pU8xhYB0Axwv"
      }
    },
    {
      "cell_type": "code",
      "source": [
        "#Convert Numpy array into tensors\n",
        "import numpy as np\n",
        "\n",
        "np_array = [1,2,3,4]\n",
        "print(np_array)"
      ],
      "metadata": {
        "colab": {
          "base_uri": "https://localhost:8080/"
        },
        "id": "GdPF55kiAQ7b",
        "outputId": "b99cbe14-350b-4f0a-8b90-1500cb159dad"
      },
      "execution_count": null,
      "outputs": [
        {
          "output_type": "stream",
          "name": "stdout",
          "text": [
            "[1, 2, 3, 4]\n"
          ]
        }
      ]
    },
    {
      "cell_type": "code",
      "source": [
        "converted_tensor = tf.convert_to_tensor(np_array)\n",
        "print(converted_tensor)"
      ],
      "metadata": {
        "colab": {
          "base_uri": "https://localhost:8080/"
        },
        "id": "TOQOs6P_Ai-B",
        "outputId": "ab9fe59e-02c9-4631-84d3-776790b144fb"
      },
      "execution_count": null,
      "outputs": [
        {
          "output_type": "stream",
          "name": "stdout",
          "text": [
            "tf.Tensor([1 2 3 4], shape=(4,), dtype=int32)\n"
          ]
        }
      ]
    },
    {
      "cell_type": "code",
      "source": [
        "#Other library functions"
      ],
      "metadata": {
        "id": "pYZusJOJCt5u"
      },
      "execution_count": null,
      "outputs": []
    },
    {
      "cell_type": "code",
      "source": [
        "eye_tensor = tf.eye(\n",
        "    num_rows = 4,\n",
        "    num_columns = None,\n",
        "    batch_shape=[2],\n",
        "    dtype=tf.dtypes.float32,\n",
        "    name = None\n",
        ")\n",
        "print(eye_tensor)"
      ],
      "metadata": {
        "colab": {
          "base_uri": "https://localhost:8080/"
        },
        "id": "NqQQD9f6Cvz1",
        "outputId": "29ac02c2-f0a8-4db1-af22-f1dedcd2a9ab"
      },
      "execution_count": null,
      "outputs": [
        {
          "output_type": "stream",
          "name": "stdout",
          "text": [
            "tf.Tensor(\n",
            "[[[1. 0. 0. 0.]\n",
            "  [0. 1. 0. 0.]\n",
            "  [0. 0. 1. 0.]\n",
            "  [0. 0. 0. 1.]]\n",
            "\n",
            " [[1. 0. 0. 0.]\n",
            "  [0. 1. 0. 0.]\n",
            "  [0. 0. 1. 0.]\n",
            "  [0. 0. 0. 1.]]], shape=(2, 4, 4), dtype=float32)\n"
          ]
        }
      ]
    },
    {
      "cell_type": "code",
      "source": [
        "random_tensor = tf.random.normal(\n",
        "    [3,2],\n",
        "    mean=100, #most of the value will be sorround to 100, because mean is normally distributed\n",
        "    stddev = 1.0, #if we increase this, the bell shaped curve will wider and decrease will result in narrow. wider means higher chance of getting a value\n",
        "    dtype = tf.dtypes.float32,\n",
        "    seed = None,\n",
        "    name = None\n",
        "\n",
        ")\n",
        "print(random_tensor)"
      ],
      "metadata": {
        "colab": {
          "base_uri": "https://localhost:8080/"
        },
        "id": "S_k_LYyBQ3YH",
        "outputId": "8ad84adb-2cfc-488c-df90-0dd2f51972e2"
      },
      "execution_count": null,
      "outputs": [
        {
          "output_type": "stream",
          "name": "stdout",
          "text": [
            "tf.Tensor(\n",
            "[[101.105644 100.32712 ]\n",
            " [100.46585   99.429245]\n",
            " [ 99.27605  100.47706 ]], shape=(3, 2), dtype=float32)\n"
          ]
        }
      ]
    },
    {
      "cell_type": "markdown",
      "source": [
        "Resources:\n",
        "1. https://www.tensorflow.org/probability/api_docs/python/tfp/distributions/Uniform\n",
        "2. https://www.acsu.buffalo.edu/~adamcunn/probability/chisquared.html\n",
        "3."
      ],
      "metadata": {
        "id": "PmrrZ3fFQqF_"
      }
    },
    {
      "cell_type": "code",
      "source": [
        "uniform_tensor = tf.random.uniform( #uniform means: there is equal chances for each value to pick\n",
        "    [3,2,3],\n",
        "    minval=0,\n",
        "    maxval=None,\n",
        "    dtype=tf.dtypes.float32,\n",
        "    seed=None,\n",
        "    name=None\n",
        ")\n",
        "print(uniform_tensor)"
      ],
      "metadata": {
        "colab": {
          "base_uri": "https://localhost:8080/"
        },
        "id": "xtNI5Aw4Qrai",
        "outputId": "9e513fc7-4422-455e-c4c7-542a579cf8fb"
      },
      "execution_count": null,
      "outputs": [
        {
          "output_type": "stream",
          "name": "stdout",
          "text": [
            "tf.Tensor(\n",
            "[[[0.85438323 0.8247545  0.01889992]\n",
            "  [0.33369732 0.05054653 0.81355095]]\n",
            "\n",
            " [[0.12981296 0.24095511 0.7104782 ]\n",
            "  [0.2691753  0.1612624  0.04256773]]\n",
            "\n",
            " [[0.87188005 0.80728686 0.26188958]\n",
            "  [0.377419   0.24431455 0.3840127 ]]], shape=(3, 2, 3), dtype=float32)\n"
          ]
        }
      ]
    },
    {
      "cell_type": "markdown",
      "source": [
        "#Tensor Indexing"
      ],
      "metadata": {
        "id": "JqxqdkMRWeDX"
      }
    },
    {
      "cell_type": "code",
      "source": [
        "tensor_one_d = ([12,34,-9,89,45])\n",
        "#extracting index 1 to 3 values\n",
        "print(tensor_one_d[1:4]) #[minIndex : maxIndex+1]"
      ],
      "metadata": {
        "colab": {
          "base_uri": "https://localhost:8080/"
        },
        "id": "4nGjLf32WgEz",
        "outputId": "9540daf4-50d6-4065-fcde-cc57fc40eb77"
      },
      "execution_count": null,
      "outputs": [
        {
          "output_type": "stream",
          "name": "stdout",
          "text": [
            "[34, -9, 89]\n"
          ]
        }
      ]
    },
    {
      "cell_type": "code",
      "source": [
        "print(tensor_one_d[:3]) #minIndex =0"
      ],
      "metadata": {
        "colab": {
          "base_uri": "https://localhost:8080/"
        },
        "id": "-bEXBKNQZLM7",
        "outputId": "5bffc425-966e-4e25-912b-a2b6b7b0624e"
      },
      "execution_count": null,
      "outputs": [
        {
          "output_type": "stream",
          "name": "stdout",
          "text": [
            "[12, 34, -9]\n"
          ]
        }
      ]
    },
    {
      "cell_type": "code",
      "source": [
        "print(tensor_one_d[2:]) #maxIndex = last index"
      ],
      "metadata": {
        "colab": {
          "base_uri": "https://localhost:8080/"
        },
        "id": "9OhikN5UZRjN",
        "outputId": "3a2b192b-d3a7-4f65-b7ca-f2be6cde4d0b"
      },
      "execution_count": null,
      "outputs": [
        {
          "output_type": "stream",
          "name": "stdout",
          "text": [
            "[-9, 89, 45]\n"
          ]
        }
      ]
    },
    {
      "cell_type": "code",
      "source": [
        "print(tensor_one_d[2:-1]) # one element will remain cut from the last"
      ],
      "metadata": {
        "colab": {
          "base_uri": "https://localhost:8080/"
        },
        "id": "xSrRfNOYZrcJ",
        "outputId": "20f2c55a-7495-4abb-9ce3-f337e7f56bf7"
      },
      "execution_count": null,
      "outputs": [
        {
          "output_type": "stream",
          "name": "stdout",
          "text": [
            "[-9, 89]\n"
          ]
        }
      ]
    },
    {
      "cell_type": "code",
      "source": [
        "#2D tensor indexing\n",
        "tensor_two_d = tf.constant([\n",
        "    [1,30,5],\n",
        "    [45,-9,78]\n",
        "])\n",
        "print(tensor_two_d[ 1:, 0:3]) #[row,column]"
      ],
      "metadata": {
        "colab": {
          "base_uri": "https://localhost:8080/"
        },
        "id": "kA7M_SsMbAO7",
        "outputId": "4ece3c28-421f-4b81-f2d3-e9a36c455734"
      },
      "execution_count": null,
      "outputs": [
        {
          "output_type": "stream",
          "name": "stdout",
          "text": [
            "tf.Tensor([[45 -9 78]], shape=(1, 3), dtype=int32)\n"
          ]
        }
      ]
    },
    {
      "cell_type": "code",
      "source": [
        "print(tensor_two_d[...,1]) #[pick all indexex, of column]"
      ],
      "metadata": {
        "colab": {
          "base_uri": "https://localhost:8080/"
        },
        "id": "Z8Hdz6qobuwv",
        "outputId": "4f28607a-0bff-4d81-881c-8f343ed9111a"
      },
      "execution_count": null,
      "outputs": [
        {
          "output_type": "stream",
          "name": "stdout",
          "text": [
            "tf.Tensor([30 -9], shape=(2,), dtype=int32)\n"
          ]
        }
      ]
    },
    {
      "cell_type": "code",
      "source": [],
      "metadata": {
        "id": "RwArK7NJcwwm"
      },
      "execution_count": null,
      "outputs": []
    }
  ]
}