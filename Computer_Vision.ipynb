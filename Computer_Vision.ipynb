{
  "nbformat": 4,
  "nbformat_minor": 0,
  "metadata": {
    "colab": {
      "provenance": []
    },
    "kernelspec": {
      "name": "python3",
      "display_name": "Python 3"
    },
    "language_info": {
      "name": "python"
    }
  },
  "cells": [
    {
      "cell_type": "markdown",
      "source": [
        "#Tensors"
      ],
      "metadata": {
        "id": "ND_aRK9ML20S"
      }
    },
    {
      "cell_type": "code",
      "source": [
        "import tensorflow as tf\n",
        "#Tensors are nothing but n dimensional array"
      ],
      "metadata": {
        "id": "ltmmhOTsL6Zw"
      },
      "execution_count": null,
      "outputs": []
    },
    {
      "cell_type": "code",
      "source": [
        "tensor_zero_d = tf.constant(4)\n",
        "print(tensor_zero_d)"
      ],
      "metadata": {
        "colab": {
          "base_uri": "https://localhost:8080/"
        },
        "id": "wqRT0qAJMP5T",
        "outputId": "49bee339-16de-49db-d587-80fe555f58bf"
      },
      "execution_count": null,
      "outputs": [
        {
          "output_type": "stream",
          "name": "stdout",
          "text": [
            "tf.Tensor(4, shape=(), dtype=int32)\n"
          ]
        }
      ]
    },
    {
      "cell_type": "code",
      "source": [
        "tensor_one_d = tf.constant([1,20,3,40])\n",
        "print(tensor_one_d)"
      ],
      "metadata": {
        "colab": {
          "base_uri": "https://localhost:8080/"
        },
        "id": "FvzKxEsXPYjn",
        "outputId": "9f5d4125-b328-4b23-d468-90bf79ffcd1b"
      },
      "execution_count": null,
      "outputs": [
        {
          "output_type": "stream",
          "name": "stdout",
          "text": [
            "tf.Tensor([ 1 20  3 40], shape=(4,), dtype=int32)\n"
          ]
        }
      ]
    },
    {
      "cell_type": "code",
      "source": [
        "tensor_two_d = tf.constant([\n",
        "    [1,30,5],\n",
        "    [45,-9,78]\n",
        "])\n",
        "print(tensor_two_d)"
      ],
      "metadata": {
        "colab": {
          "base_uri": "https://localhost:8080/"
        },
        "id": "w8e3521LQcLN",
        "outputId": "f2fff3e8-08f0-408e-a9bb-3913bb884850"
      },
      "execution_count": null,
      "outputs": [
        {
          "output_type": "stream",
          "name": "stdout",
          "text": [
            "tf.Tensor(\n",
            "[[ 1 30  5]\n",
            " [45 -9 78]], shape=(2, 3), dtype=int32)\n"
          ]
        }
      ]
    },
    {
      "cell_type": "code",
      "source": [
        "tensor_three_d = tf.constant([\n",
        "    [ [1,2,3], [4,5,6]],\n",
        "    [ [10,20,30], [30,40,50] ],\n",
        "    [ [-1,-2,-3], [0,4,5] ]\n",
        "])\n",
        "print(tensor_three_d)"
      ],
      "metadata": {
        "colab": {
          "base_uri": "https://localhost:8080/"
        },
        "id": "V-fDCcPuRGo0",
        "outputId": "200097db-cfb0-4a17-ff19-479c6487c8e8"
      },
      "execution_count": null,
      "outputs": [
        {
          "output_type": "stream",
          "name": "stdout",
          "text": [
            "tf.Tensor(\n",
            "[[[ 1  2  3]\n",
            "  [ 4  5  6]]\n",
            "\n",
            " [[10 20 30]\n",
            "  [30 40 50]]\n",
            "\n",
            " [[-1 -2 -3]\n",
            "  [ 0  4  5]]], shape=(3, 2, 3), dtype=int32)\n"
          ]
        }
      ]
    },
    {
      "cell_type": "code",
      "source": [
        "tensor_four_d = tf.constant([\n",
        "    [[ [1,2,3], [4,5,6]],\n",
        "    [ [10,20,30], [30,40,50] ],\n",
        "    [ [-1,-2,-3], [0,4,5] ]],\n",
        "\n",
        "    [[ [1,2,3], [4,5,6]],\n",
        "    [ [10,20,30], [30,40,50] ],\n",
        "    [ [-1,-2,-3], [0,4,5] ]]\n",
        "])\n",
        "\n",
        "print(tensor_four_d) #shape(3D per 2D,2D per 3D,1D per 2D ,column num), tips: start reading from the right side"
      ],
      "metadata": {
        "colab": {
          "base_uri": "https://localhost:8080/"
        },
        "id": "HY5foIf2TsBB",
        "outputId": "060aaa45-5d8d-476d-8783-3f25c8dc12a0"
      },
      "execution_count": null,
      "outputs": [
        {
          "output_type": "stream",
          "name": "stdout",
          "text": [
            "tf.Tensor(\n",
            "[[[[ 1  2  3]\n",
            "   [ 4  5  6]]\n",
            "\n",
            "  [[10 20 30]\n",
            "   [30 40 50]]\n",
            "\n",
            "  [[-1 -2 -3]\n",
            "   [ 0  4  5]]]\n",
            "\n",
            "\n",
            " [[[ 1  2  3]\n",
            "   [ 4  5  6]]\n",
            "\n",
            "  [[10 20 30]\n",
            "   [30 40 50]]\n",
            "\n",
            "  [[-1 -2 -3]\n",
            "   [ 0  4  5]]]], shape=(2, 3, 2, 3), dtype=int32)\n"
          ]
        }
      ]
    },
    {
      "cell_type": "code",
      "source": [
        "print(tensor_four_d.ndim) #dimension of the tensors"
      ],
      "metadata": {
        "colab": {
          "base_uri": "https://localhost:8080/"
        },
        "id": "bzFAPGirV8n9",
        "outputId": "467bf1bb-aff1-4ad7-c1d9-022028cb9416"
      },
      "execution_count": null,
      "outputs": [
        {
          "output_type": "stream",
          "name": "stdout",
          "text": [
            "4\n"
          ]
        }
      ]
    },
    {
      "cell_type": "code",
      "source": [
        "#Casting in different data type\n",
        "tensor_one_d = tf.constant([1,-20.0004,3.2,40], dtype = tf.float32)\n",
        "casted_tensor_one_d = tf.cast(tensor_one_d, dtype=tf.int32)\n",
        "\n",
        "print(casted_tensor_one_d)\n"
      ],
      "metadata": {
        "colab": {
          "base_uri": "https://localhost:8080/"
        },
        "id": "SjhnBK_p-QQU",
        "outputId": "78c553f5-c72e-4d96-8a8f-19d730912dd2"
      },
      "execution_count": null,
      "outputs": [
        {
          "output_type": "stream",
          "name": "stdout",
          "text": [
            "tf.Tensor([  1 -20   3  40], shape=(4,), dtype=int32)\n"
          ]
        }
      ]
    },
    {
      "cell_type": "code",
      "source": [
        "#Boolean tensor\n",
        "tensor_bool = tf.constant([True, False, True, False])\n",
        "print(tensor_bool)"
      ],
      "metadata": {
        "colab": {
          "base_uri": "https://localhost:8080/"
        },
        "id": "XJWSY6w3_qko",
        "outputId": "9cc2caac-5a55-4d7f-d048-bbe075bee9ad"
      },
      "execution_count": null,
      "outputs": [
        {
          "output_type": "stream",
          "name": "stdout",
          "text": [
            "tf.Tensor([ True False  True False], shape=(4,), dtype=bool)\n"
          ]
        }
      ]
    },
    {
      "cell_type": "code",
      "source": [
        "#String tensor\n",
        "tensor_string = tf.constant([\"Hello\", \"World\", \"Hi\"])\n",
        "print(tensor_string)"
      ],
      "metadata": {
        "colab": {
          "base_uri": "https://localhost:8080/"
        },
        "id": "MN1EFs9uABCK",
        "outputId": "bcea74e5-f5a3-4677-8e0c-7fc456b262de"
      },
      "execution_count": null,
      "outputs": [
        {
          "output_type": "stream",
          "name": "stdout",
          "text": [
            "tf.Tensor([b'Hello' b'World' b'Hi'], shape=(3,), dtype=string)\n"
          ]
        }
      ]
    },
    {
      "cell_type": "markdown",
      "source": [
        "##Numpy array to Tensor conversion"
      ],
      "metadata": {
        "id": "pU8xhYB0Axwv"
      }
    },
    {
      "cell_type": "code",
      "source": [
        "#Convert Numpy array into tensors\n",
        "import numpy as np\n",
        "\n",
        "np_array = [1,2,3,4]\n",
        "print(np_array)"
      ],
      "metadata": {
        "colab": {
          "base_uri": "https://localhost:8080/"
        },
        "id": "GdPF55kiAQ7b",
        "outputId": "a0eda784-9e6b-4da8-ddfc-b8d0fce9a2d0"
      },
      "execution_count": null,
      "outputs": [
        {
          "output_type": "stream",
          "name": "stdout",
          "text": [
            "[1, 2, 3, 4]\n"
          ]
        }
      ]
    },
    {
      "cell_type": "code",
      "source": [
        "converted_tensor = tf.convert_to_tensor(np_array)\n",
        "print(converted_tensor)"
      ],
      "metadata": {
        "colab": {
          "base_uri": "https://localhost:8080/"
        },
        "id": "TOQOs6P_Ai-B",
        "outputId": "a69d80af-71e4-4d62-ae62-113c58def5b5"
      },
      "execution_count": null,
      "outputs": [
        {
          "output_type": "stream",
          "name": "stdout",
          "text": [
            "tf.Tensor([1 2 3 4], shape=(4,), dtype=int32)\n"
          ]
        }
      ]
    },
    {
      "cell_type": "code",
      "source": [
        "#Other library functions"
      ],
      "metadata": {
        "id": "pYZusJOJCt5u"
      },
      "execution_count": null,
      "outputs": []
    },
    {
      "cell_type": "code",
      "source": [
        "eye_tensor = tf.eye(\n",
        "    num_rows = 4,\n",
        "    num_columns = None,\n",
        "    batch_shape=[2],\n",
        "    dtype=tf.dtypes.float32,\n",
        "    name = None\n",
        ")\n",
        "print(eye_tensor)"
      ],
      "metadata": {
        "colab": {
          "base_uri": "https://localhost:8080/"
        },
        "id": "NqQQD9f6Cvz1",
        "outputId": "07d12a50-7be7-4a70-d279-b528574c958a"
      },
      "execution_count": null,
      "outputs": [
        {
          "output_type": "stream",
          "name": "stdout",
          "text": [
            "tf.Tensor(\n",
            "[[[1. 0. 0. 0.]\n",
            "  [0. 1. 0. 0.]\n",
            "  [0. 0. 1. 0.]\n",
            "  [0. 0. 0. 1.]]\n",
            "\n",
            " [[1. 0. 0. 0.]\n",
            "  [0. 1. 0. 0.]\n",
            "  [0. 0. 1. 0.]\n",
            "  [0. 0. 0. 1.]]], shape=(2, 4, 4), dtype=float32)\n"
          ]
        }
      ]
    },
    {
      "cell_type": "code",
      "source": [
        "random_tensor = tf.random.normal(\n",
        "    [3,2],\n",
        "    mean=100, #most of the value will be sorround to 100, because mean is normally distributed\n",
        "    stddev = 1.0, #if we increase this, the bell shaped curve will wider and decrease will result in narrow. wider means higher chance of getting a value\n",
        "    dtype = tf.dtypes.float32,\n",
        "    seed = None,\n",
        "    name = None\n",
        "\n",
        ")\n",
        "print(random_tensor)"
      ],
      "metadata": {
        "colab": {
          "base_uri": "https://localhost:8080/"
        },
        "id": "S_k_LYyBQ3YH",
        "outputId": "2ba19f56-a5ea-43c1-a708-b8566af37494"
      },
      "execution_count": null,
      "outputs": [
        {
          "output_type": "stream",
          "name": "stdout",
          "text": [
            "tf.Tensor(\n",
            "[[ 99.423096 100.332535]\n",
            " [ 98.934364  99.05152 ]\n",
            " [ 99.74211  100.556145]], shape=(3, 2), dtype=float32)\n"
          ]
        }
      ]
    },
    {
      "cell_type": "markdown",
      "source": [
        "Resources:\n",
        "1. https://www.tensorflow.org/probability/api_docs/python/tfp/distributions/Uniform\n",
        "2. https://www.acsu.buffalo.edu/~adamcunn/probability/chisquared.html\n",
        "3."
      ],
      "metadata": {
        "id": "PmrrZ3fFQqF_"
      }
    },
    {
      "cell_type": "code",
      "source": [
        "uniform_tensor = tf.random.uniform( #uniform means: there is equal chances for each value to pick\n",
        "    [3,2,3],\n",
        "    minval=0,\n",
        "    maxval=None,\n",
        "    dtype=tf.dtypes.float32,\n",
        "    seed=None,\n",
        "    name=None\n",
        ")\n",
        "print(uniform_tensor)"
      ],
      "metadata": {
        "colab": {
          "base_uri": "https://localhost:8080/"
        },
        "id": "xtNI5Aw4Qrai",
        "outputId": "e93ff6d5-b719-4b67-e721-02f920f306ba"
      },
      "execution_count": null,
      "outputs": [
        {
          "output_type": "stream",
          "name": "stdout",
          "text": [
            "tf.Tensor(\n",
            "[[[0.99177897 0.4779985  0.73795116]\n",
            "  [0.00489402 0.4196961  0.2520473 ]]\n",
            "\n",
            " [[0.8480005  0.5238763  0.5981821 ]\n",
            "  [0.89925575 0.16542208 0.46137154]]\n",
            "\n",
            " [[0.6901219  0.3347075  0.4698218 ]\n",
            "  [0.9254482  0.39886558 0.8932642 ]]], shape=(3, 2, 3), dtype=float32)\n"
          ]
        }
      ]
    },
    {
      "cell_type": "markdown",
      "source": [
        "#Tensor Indexing"
      ],
      "metadata": {
        "id": "JqxqdkMRWeDX"
      }
    },
    {
      "cell_type": "code",
      "source": [
        "tensor_one_d = ([12,34,-9,89,45])\n",
        "#extracting index 1 to 3 values\n",
        "print(tensor_one_d[1:4]) #[minIndex : maxIndex+1]"
      ],
      "metadata": {
        "colab": {
          "base_uri": "https://localhost:8080/"
        },
        "id": "4nGjLf32WgEz",
        "outputId": "63eadf10-9bbc-452e-974d-169e01feace5"
      },
      "execution_count": null,
      "outputs": [
        {
          "output_type": "stream",
          "name": "stdout",
          "text": [
            "[34, -9, 89]\n"
          ]
        }
      ]
    },
    {
      "cell_type": "code",
      "source": [
        "print(tensor_one_d[:3]) #minIndex =0"
      ],
      "metadata": {
        "colab": {
          "base_uri": "https://localhost:8080/"
        },
        "id": "-bEXBKNQZLM7",
        "outputId": "8387807f-b5d0-4dde-ca62-ab31828d191a"
      },
      "execution_count": null,
      "outputs": [
        {
          "output_type": "stream",
          "name": "stdout",
          "text": [
            "[12, 34, -9]\n"
          ]
        }
      ]
    },
    {
      "cell_type": "code",
      "source": [
        "print(tensor_one_d[2:]) #maxIndex = last index"
      ],
      "metadata": {
        "colab": {
          "base_uri": "https://localhost:8080/"
        },
        "id": "9OhikN5UZRjN",
        "outputId": "88197d70-7822-443c-9a6b-159f3c951f3b"
      },
      "execution_count": null,
      "outputs": [
        {
          "output_type": "stream",
          "name": "stdout",
          "text": [
            "[-9, 89, 45]\n"
          ]
        }
      ]
    },
    {
      "cell_type": "code",
      "source": [
        "print(tensor_one_d[2:-1]) # one element will remain cut from the last"
      ],
      "metadata": {
        "colab": {
          "base_uri": "https://localhost:8080/"
        },
        "id": "xSrRfNOYZrcJ",
        "outputId": "4dfc3b0c-9f47-47eb-bdc4-54ac31913551"
      },
      "execution_count": null,
      "outputs": [
        {
          "output_type": "stream",
          "name": "stdout",
          "text": [
            "[-9, 89]\n"
          ]
        }
      ]
    },
    {
      "cell_type": "code",
      "source": [
        "#2D tensor indexing\n",
        "tensor_two_d = tf.constant([\n",
        "    [1,30,5],\n",
        "    [45,-9,78]\n",
        "])\n",
        "print(tensor_two_d[ 1:, 0:3]) #[row,column]"
      ],
      "metadata": {
        "colab": {
          "base_uri": "https://localhost:8080/"
        },
        "id": "kA7M_SsMbAO7",
        "outputId": "d3fe05a3-d5a9-43c7-9147-1ad8dedbdf84"
      },
      "execution_count": null,
      "outputs": [
        {
          "output_type": "stream",
          "name": "stdout",
          "text": [
            "tf.Tensor([[45 -9 78]], shape=(1, 3), dtype=int32)\n"
          ]
        }
      ]
    },
    {
      "cell_type": "code",
      "source": [
        "print(tensor_two_d[...,1]) #[pick all indexex, of column]"
      ],
      "metadata": {
        "colab": {
          "base_uri": "https://localhost:8080/"
        },
        "id": "Z8Hdz6qobuwv",
        "outputId": "cabcd22b-6367-4160-977e-a3767c831212"
      },
      "execution_count": null,
      "outputs": [
        {
          "output_type": "stream",
          "name": "stdout",
          "text": [
            "tf.Tensor([30 -9], shape=(2,), dtype=int32)\n"
          ]
        }
      ]
    },
    {
      "cell_type": "code",
      "source": [
        "tensor_three_d = tf.constant([\n",
        "                [[1,2,3],\n",
        "                 [34,35,36]],\n",
        "\n",
        "                [[-9,-8,-7],\n",
        "                 [4,6,8]],\n",
        "\n",
        "                [[5,6,0],\n",
        "                 [40,56,89]],\n",
        "\n",
        "                [[56,7,8],\n",
        "                 [8,90,6777]]\n",
        "])\n",
        "print(tensor_three_d)"
      ],
      "metadata": {
        "id": "RwArK7NJcwwm",
        "colab": {
          "base_uri": "https://localhost:8080/"
        },
        "outputId": "ab1b6697-954e-4193-f08b-551a2cd71fb6"
      },
      "execution_count": null,
      "outputs": [
        {
          "output_type": "stream",
          "name": "stdout",
          "text": [
            "tf.Tensor(\n",
            "[[[   1    2    3]\n",
            "  [  34   35   36]]\n",
            "\n",
            " [[  -9   -8   -7]\n",
            "  [   4    6    8]]\n",
            "\n",
            " [[   5    6    0]\n",
            "  [  40   56   89]]\n",
            "\n",
            " [[  56    7    8]\n",
            "  [   8   90 6777]]], shape=(4, 2, 3), dtype=int32)\n"
          ]
        }
      ]
    },
    {
      "cell_type": "code",
      "source": [
        "print(tensor_three_d[0:1, :-1, 0:2]) #3D means there will be 03 commas and [row : col]"
      ],
      "metadata": {
        "colab": {
          "base_uri": "https://localhost:8080/"
        },
        "id": "_Kd88Xt58eI3",
        "outputId": "ec314f21-cbe0-4d62-802b-62d9d679b4f8"
      },
      "execution_count": null,
      "outputs": [
        {
          "output_type": "stream",
          "name": "stdout",
          "text": [
            "tf.Tensor([[[1 2]]], shape=(1, 1, 2), dtype=int32)\n"
          ]
        }
      ]
    },
    {
      "cell_type": "code",
      "source": [
        "print(tensor_three_d[0:2, :, 2]) # : means take all, 2 means take col no 2"
      ],
      "metadata": {
        "colab": {
          "base_uri": "https://localhost:8080/"
        },
        "id": "_0I2K-k698GN",
        "outputId": "d9c157b0-6207-4bd8-c355-6929014dcdb7"
      },
      "execution_count": null,
      "outputs": [
        {
          "output_type": "stream",
          "name": "stdout",
          "text": [
            "tf.Tensor(\n",
            "[[ 3 36]\n",
            " [-7  8]], shape=(2, 2), dtype=int32)\n"
          ]
        }
      ]
    },
    {
      "cell_type": "code",
      "source": [
        "print(tensor_three_d[..., :, 2]) #means take all the elements"
      ],
      "metadata": {
        "colab": {
          "base_uri": "https://localhost:8080/"
        },
        "id": "BPwGb0b198M_",
        "outputId": "707ecf7c-ebe4-4154-c13a-1a81cef7e36f"
      },
      "execution_count": null,
      "outputs": [
        {
          "output_type": "stream",
          "name": "stdout",
          "text": [
            "tf.Tensor(\n",
            "[[   3   36]\n",
            " [  -7    8]\n",
            " [   0   89]\n",
            " [   8 6777]], shape=(4, 2), dtype=int32)\n"
          ]
        }
      ]
    },
    {
      "cell_type": "markdown",
      "source": [
        "#Some algebra operations"
      ],
      "metadata": {
        "id": "1dpIScVPTxOA"
      }
    },
    {
      "cell_type": "code",
      "source": [
        "#Complex number\n",
        "tensor_complex = tf.constant([2.23-4j])\n",
        "print(abs(tensor_complex))"
      ],
      "metadata": {
        "colab": {
          "base_uri": "https://localhost:8080/"
        },
        "id": "S2iX2x4YT1Xl",
        "outputId": "0d72d3dd-ec66-4f5c-8b5d-58956de94fe8"
      },
      "execution_count": null,
      "outputs": [
        {
          "output_type": "stream",
          "name": "stdout",
          "text": [
            "tf.Tensor([4.57961789], shape=(1,), dtype=float64)\n"
          ]
        }
      ]
    },
    {
      "cell_type": "code",
      "source": [
        "tf.sqrt(2.23**2 + (-4)**2)"
      ],
      "metadata": {
        "colab": {
          "base_uri": "https://localhost:8080/"
        },
        "id": "QvcCRVA1UFs_",
        "outputId": "331eb3ff-f234-4fc9-90ec-6adcbe1e9004"
      },
      "execution_count": null,
      "outputs": [
        {
          "output_type": "execute_result",
          "data": {
            "text/plain": [
              "<tf.Tensor: shape=(), dtype=float32, numpy=4.579618>"
            ]
          },
          "metadata": {},
          "execution_count": 28
        }
      ]
    },
    {
      "cell_type": "code",
      "source": [
        "x1 = tf.constant([12,4,5,6])\n",
        "x2 = tf.constant([10,20,30,40])\n",
        "tf.add(x1, x2)\n",
        "tf.multiply(x1,x2)\n",
        "tf.divide(x1,x2)"
      ],
      "metadata": {
        "colab": {
          "base_uri": "https://localhost:8080/"
        },
        "id": "XRxsg8TVU1sE",
        "outputId": "4756788b-3a57-4b49-afae-75a0568d2c16"
      },
      "execution_count": null,
      "outputs": [
        {
          "output_type": "execute_result",
          "data": {
            "text/plain": [
              "<tf.Tensor: shape=(4,), dtype=float64, numpy=array([1.2       , 0.2       , 0.16666667, 0.15      ])>"
            ]
          },
          "metadata": {},
          "execution_count": 32
        }
      ]
    },
    {
      "cell_type": "code",
      "source": [
        "#Broadcasting: where a tensor stretched out to operation with bigger size tensor\n",
        "x1 = tf.constant([12,4,5,6])\n",
        "x2 = tf.constant([4])\n",
        "tf.add(x1,x2)"
      ],
      "metadata": {
        "colab": {
          "base_uri": "https://localhost:8080/"
        },
        "id": "l_eHLY6vVi_x",
        "outputId": "d6073eb8-3a26-4b2d-fc6a-36eb2343b97e"
      },
      "execution_count": null,
      "outputs": [
        {
          "output_type": "execute_result",
          "data": {
            "text/plain": [
              "<tf.Tensor: shape=(4,), dtype=int32, numpy=array([16,  8,  9, 10], dtype=int32)>"
            ]
          },
          "metadata": {},
          "execution_count": 33
        }
      ]
    },
    {
      "cell_type": "code",
      "source": [
        "#Max value of a tensor\n",
        "print(tf.math.argmax(x1)) #will return the index of max value"
      ],
      "metadata": {
        "colab": {
          "base_uri": "https://localhost:8080/"
        },
        "id": "CaeRuA5bZkKD",
        "outputId": "ce04e6f3-c455-43fa-dbfc-ac5c3bfa03e7"
      },
      "execution_count": null,
      "outputs": [
        {
          "output_type": "stream",
          "name": "stdout",
          "text": [
            "tf.Tensor(0, shape=(), dtype=int64)\n"
          ]
        }
      ]
    },
    {
      "cell_type": "code",
      "source": [],
      "metadata": {
        "id": "HWdYNXY5Z1yB"
      },
      "execution_count": null,
      "outputs": []
    }
  ]
}